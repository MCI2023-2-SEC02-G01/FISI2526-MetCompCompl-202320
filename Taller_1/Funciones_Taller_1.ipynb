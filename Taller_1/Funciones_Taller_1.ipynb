{
 "cells": [
  {
   "cell_type": "code",
   "execution_count": 1,
   "metadata": {},
   "outputs": [],
   "source": [
    "def lectura_YML (archivoYML):\n",
    "    Índices = []\n",
    "    with open (archivoYML, \"r\") as a:\n",
    "        for linea in archivoYML:\n",
    "            l = a.readline()\n",
    "            if \"data: |\" in l:\n",
    "                while \"SPECS\" not in l:\n",
    "                    line = a.readline()\n",
    "                    Lambda = line.split( )[0]\n",
    "                    n = line.split( )[1]\n",
    "                    Tupla = (Lambda, n)\n",
    "                    Índices.append(Tupla)\n",
    "                archivoYML.close()\n",
    "    return Índices"
   ]
  },
  {
   "cell_type": "code",
   "execution_count": 2,
   "metadata": {},
   "outputs": [
    {
     "ename": "IndexError",
     "evalue": "list index out of range",
     "output_type": "error",
     "traceback": [
      "\u001b[1;31m---------------------------------------------------------------------------\u001b[0m",
      "\u001b[1;31mIndexError\u001b[0m                                Traceback (most recent call last)",
      "Cell \u001b[1;32mIn[2], line 1\u001b[0m\n\u001b[1;32m----> 1\u001b[0m a \u001b[39m=\u001b[39m lectura_YML(\u001b[39mr\u001b[39;49m\u001b[39m\"\u001b[39;49m\u001b[39mC:\u001b[39;49m\u001b[39m\\\u001b[39;49m\u001b[39mUsers\u001b[39;49m\u001b[39m\\\u001b[39;49m\u001b[39mbrune\u001b[39;49m\u001b[39m\\\u001b[39;49m\u001b[39mOneDrive\u001b[39;49m\u001b[39m\\\u001b[39;49m\u001b[39mDocumentos\u001b[39;49m\u001b[39m\\\u001b[39;49m\u001b[39mFISI2526-MetCompCompl-202320\u001b[39;49m\u001b[39m\\\u001b[39;49m\u001b[39mTaller_1\u001b[39;49m\u001b[39m\\\u001b[39;49m\u001b[39mCombustibles\u001b[39;49m\u001b[39m\\\u001b[39;49m\u001b[39mWang-20C.yml\u001b[39;49m\u001b[39m\"\u001b[39;49m)\n\u001b[0;32m      2\u001b[0m \u001b[39mprint\u001b[39m (a)\n",
      "Cell \u001b[1;32mIn[1], line 10\u001b[0m, in \u001b[0;36mlectura_YML\u001b[1;34m(archivoYML)\u001b[0m\n\u001b[0;32m      8\u001b[0m line \u001b[39m=\u001b[39m a\u001b[39m.\u001b[39mreadline()\n\u001b[0;32m      9\u001b[0m Lambda \u001b[39m=\u001b[39m line\u001b[39m.\u001b[39msplit( )[\u001b[39m0\u001b[39m]\n\u001b[1;32m---> 10\u001b[0m n \u001b[39m=\u001b[39m line\u001b[39m.\u001b[39;49msplit( )[\u001b[39m1\u001b[39;49m]\n\u001b[0;32m     11\u001b[0m Tupla \u001b[39m=\u001b[39m (Lambda, n)\n\u001b[0;32m     12\u001b[0m Índices\u001b[39m.\u001b[39mappend(Tupla)\n",
      "\u001b[1;31mIndexError\u001b[0m: list index out of range"
     ]
    }
   ],
   "source": [
    "a = lectura_YML(r\"C:\\Users\\brune\\OneDrive\\Documentos\\FISI2526-MetCompCompl-202320\\Taller_1\\Combustibles\\Wang-20C.yml\")\n",
    "print (a)"
   ]
  }
 ],
 "metadata": {
  "kernelspec": {
   "display_name": "Python 3",
   "language": "python",
   "name": "python3"
  },
  "language_info": {
   "codemirror_mode": {
    "name": "ipython",
    "version": 3
   },
   "file_extension": ".py",
   "mimetype": "text/x-python",
   "name": "python",
   "nbconvert_exporter": "python",
   "pygments_lexer": "ipython3",
   "version": "3.10.11"
  },
  "orig_nbformat": 4
 },
 "nbformat": 4,
 "nbformat_minor": 2
}
